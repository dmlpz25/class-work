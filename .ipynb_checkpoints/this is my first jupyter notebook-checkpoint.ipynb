{
 "cells": [
  {
   "cell_type": "markdown",
   "metadata": {},
   "source": [
    "this is my first jupyter notebook! "
   ]
  },
  {
   "cell_type": "markdown",
   "metadata": {},
   "source": [
    "#this is my first JN "
   ]
  },
  {
   "cell_type": "markdown",
   "metadata": {},
   "source": [
    "# this is my first jupyter notebook \n",
    " yes, this is how it is spelled and capitalized! "
   ]
  },
  {
   "cell_type": "markdown",
   "metadata": {},
   "source": [
    "## heading 2"
   ]
  },
  {
   "cell_type": "markdown",
   "metadata": {},
   "source": [
    "### heading 3"
   ]
  },
  {
   "cell_type": "markdown",
   "metadata": {},
   "source": [
    "## This is a bulleted list\n",
    "* Item 1\n",
    "* Item 2\n",
    "* Item 2a\n",
    "* Item 2b\n",
    "* Item 2ba\n",
    "* Item 2c\n",
    "* Item 3"
   ]
  },
  {
   "cell_type": "markdown",
   "metadata": {},
   "source": [
    "### This is a numbered list\n",
    "1. Item 1\n",
    "2. Item 2\n",
    "7. Item 3\n",
    "15. Item 4\n",
    " * Item 4a\n",
    " * Item 4b"
   ]
  },
  {
   "cell_type": "markdown",
   "metadata": {},
   "source": [
    "#### Let's look at bold and italics\n",
    "In this line of text *this item will be in italics* while this will not. By the\n",
    "same token _this will be_ but this won't. In this line of text **this item\n",
    "will be bold** while this will not. By the same token __this will be but__\n",
    "this won't. This would be **bold and *italics* text**."
   ]
  },
  {
   "cell_type": "markdown",
   "metadata": {},
   "source": [
    "# task 6"
   ]
  },
  {
   "cell_type": "markdown",
   "metadata": {},
   "source": [
    "# i like have a command line and results in the same page, very helpful!"
   ]
  },
  {
   "cell_type": "code",
   "execution_count": null,
   "metadata": {},
   "outputs": [],
   "source": [
    "f=100"
   ]
  },
  {
   "cell_type": "code",
   "execution_count": null,
   "metadata": {},
   "outputs": [],
   "source": [
    "f = 100\n",
    "c = (f-32)*5/9"
   ]
  },
  {
   "cell_type": "code",
   "execution_count": null,
   "metadata": {},
   "outputs": [],
   "source": []
  }
 ],
 "metadata": {
  "kernelspec": {
   "display_name": "Python 3",
   "language": "python",
   "name": "python3"
  }
 },
 "nbformat": 4,
 "nbformat_minor": 2
}
